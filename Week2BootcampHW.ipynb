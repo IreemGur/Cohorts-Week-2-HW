{
 "cells": [
  {
   "cell_type": "code",
   "execution_count": 9,
   "id": "a55f0423-8a17-4479-8d60-e2fc052c3377",
   "metadata": {},
   "outputs": [
    {
     "name": "stdin",
     "output_type": "stream",
     "text": [
      "Bir sayi girin: 2000\n"
     ]
    },
    {
     "name": "stdout",
     "output_type": "stream",
     "text": [
      "Pozitif bir sayi girdiniz\n"
     ]
    }
   ],
   "source": [
    "#girilen sayinin pozitif, negatif veya sifir oldugunu yazan kosul\n",
    "x= int(input(\"Bir sayi girin:\"))\n",
    "\n",
    "if x>0:\n",
    "    print(\"Pozitif bir sayi girdiniz\")\n",
    "elif x==0:\n",
    "    print(\"Sifir girdiniz\")\n",
    "else:\n",
    "    print(\"Negatif bir sayi girdiniz\")\n",
    "    "
   ]
  },
  {
   "cell_type": "code",
   "execution_count": 17,
   "id": "bb4efffd-91d0-4187-b534-3f9ac365c441",
   "metadata": {},
   "outputs": [
    {
     "name": "stdin",
     "output_type": "stream",
     "text": [
      "Bir sayi girin: -1\n"
     ]
    },
    {
     "name": "stdout",
     "output_type": "stream",
     "text": [
      "Girilen sayi tek sayidir.\n"
     ]
    }
   ],
   "source": [
    "#girilen sayinin tek mi cift mi oldugunu yazan kosul\n",
    "y= int(input(\"Bir sayi girin:\"))\n",
    "\n",
    "if y%2==0:\n",
    "    print(\"Girilen sayi cift sayidir.\")\n",
    "else:\n",
    "    print(\"Girilen sayi tek sayidir.\")"
   ]
  },
  {
   "cell_type": "code",
   "execution_count": 41,
   "id": "652cf5c9-daf4-4d32-ae12-31b2c73c2514",
   "metadata": {},
   "outputs": [
    {
     "name": "stdin",
     "output_type": "stream",
     "text": [
      "Not giriniz: 80\n"
     ]
    },
    {
     "name": "stdout",
     "output_type": "stream",
     "text": [
      "A\n"
     ]
    }
   ],
   "source": [
    "#Girilen nota göre harf araligini yazan kosul (80-100 A, 60-80 B vs.)\n",
    "nt= int(input(\"Not giriniz:\"))\n",
    "\n",
    "if nt<=100 and nt>=80:\n",
    "    print(\"A\")\n",
    "elif nt<80 and nt>=60:\n",
    "    print(\"B\")\n",
    "elif nt<60 and nt >=40:\n",
    "    print(\"C\")\n",
    "elif nt<40 and nt>=20:\n",
    "    print(\"D\")\n",
    "else:\n",
    "    print(\"F\")"
   ]
  },
  {
   "cell_type": "code",
   "execution_count": 45,
   "id": "6c6bae94-cdee-42c1-a0a2-8b335b5ceca6",
   "metadata": {},
   "outputs": [
    {
     "name": "stdin",
     "output_type": "stream",
     "text": [
      "Bir isim giriniz: zehra\n"
     ]
    },
    {
     "name": "stdout",
     "output_type": "stream",
     "text": [
      "Uzun bir isminiz var.\n"
     ]
    }
   ],
   "source": [
    "#girilen ismin karakter sayisi 5den büyükse \"uzun bir isminiz var\" degilse ismini yazsin\n",
    "isim= input(\"Bir isim giriniz:\")\n",
    "\n",
    "u= len(isim)\n",
    "\n",
    "if u>=5:\n",
    "    print(\"Uzun bir isminiz var.\")\n",
    "else:\n",
    "    print(isim)"
   ]
  },
  {
   "cell_type": "code",
   "execution_count": 48,
   "id": "c29fb29f-9bcd-45c9-acc9-bcadbb7caea5",
   "metadata": {},
   "outputs": [
    {
     "data": {
      "text/plain": [
       "120"
      ]
     },
     "execution_count": 48,
     "metadata": {},
     "output_type": "execute_result"
    }
   ],
   "source": [
    "def faktorifor(x):\n",
    "    result=1\n",
    "    for i in range(2,x+1):\n",
    "        result=result* i\n",
    "    return result \n",
    "\n",
    "faktorifor(5)"
   ]
  },
  {
   "cell_type": "code",
   "execution_count": 50,
   "id": "71788599-eff2-4a0a-bffd-6c27032fa5c0",
   "metadata": {},
   "outputs": [
    {
     "data": {
      "text/plain": [
       "120"
      ]
     },
     "execution_count": 50,
     "metadata": {},
     "output_type": "execute_result"
    }
   ],
   "source": [
    "def faktoriwhile(x):\n",
    "    result=1\n",
    "    i=1\n",
    "    while i<=x:\n",
    "         result=i*result \n",
    "         i=i+1\n",
    "    return result \n",
    "\n",
    "faktoriwhile(5)"
   ]
  },
  {
   "cell_type": "code",
   "execution_count": 58,
   "id": "26bec208-0928-4f0f-96de-a4d442855cb7",
   "metadata": {},
   "outputs": [
    {
     "name": "stdin",
     "output_type": "stream",
     "text": [
      "Bir sayi giniriz. 5\n"
     ]
    },
    {
     "name": "stdout",
     "output_type": "stream",
     "text": [
      "120\n"
     ]
    }
   ],
   "source": [
    "#girilen sayinin asal olup olmadigini bulan kod dizisi. (for ve while)\n",
    "#for\n",
    "\n",
    "z= int(input(\"Bir sayi giniriz:\"))\n",
    "result=1\n",
    "\n",
    "for i in range(2,z+1):\n",
    "    result=result*i\n",
    "print(result)"
   ]
  },
  {
   "cell_type": "code",
   "execution_count": 62,
   "id": "1ff4b51c-913d-44cf-995b-05c5238a747f",
   "metadata": {},
   "outputs": [
    {
     "name": "stdin",
     "output_type": "stream",
     "text": [
      "Bir sayi giriniz. 5\n"
     ]
    },
    {
     "name": "stdout",
     "output_type": "stream",
     "text": [
      "120\n"
     ]
    }
   ],
   "source": [
    "#while\n",
    "\n",
    "t= int(input(\"Bir sayi giriniz:\"))\n",
    "res=1\n",
    "i=1\n",
    "while i<=t:\n",
    "    res=res*i\n",
    "    i+=1\n",
    "print(res)\n"
   ]
  },
  {
   "cell_type": "code",
   "execution_count": 70,
   "id": "c4029b18-b242-45f2-90df-d68627e76b42",
   "metadata": {},
   "outputs": [
    {
     "name": "stdout",
     "output_type": "stream",
     "text": [
      "2\n"
     ]
    }
   ],
   "source": [
    "#notlar=[45,85,75,50] icinde 75 degerinin indisini yazdiran dongü\n",
    "\n",
    "notlar=[45,85,75,50]\n",
    "for i in range(1,len(notlar)):\n",
    "    if notlar[i]==75:\n",
    "        print(i)\n"
   ]
  },
  {
   "cell_type": "code",
   "execution_count": 95,
   "id": "feb08130-67ca-4520-9bc6-49c0aab61bb5",
   "metadata": {},
   "outputs": [
    {
     "name": "stdin",
     "output_type": "stream",
     "text": [
      "Bir sayi giriniz -1\n",
      "Bir sayi giriniz -3\n",
      "Bir sayi giriniz -5\n",
      "Bir sayi giriniz 16\n"
     ]
    },
    {
     "name": "stdout",
     "output_type": "stream",
     "text": [
      "16\n"
     ]
    }
   ],
   "source": [
    "#Kullancidan pozitif bir sayi bekleyen, pozitifi de gördügü an bastiran, \n",
    "#negatif sayi girildikçe bir daha soran yapi kuralim. (for döngüsü ile) \n",
    "\n",
    "k=int(input(\"Bir sayi giriniz\"))\n",
    "\n",
    "while k<0:\n",
    "    k=int(input(\"Bir sayi giriniz\"))\n",
    "    if k>=0:\n",
    "       print(k)\n",
    "       \n"
   ]
  },
  {
   "cell_type": "code",
   "execution_count": 111,
   "id": "788b0dee-1036-4f7f-b768-fc7120776105",
   "metadata": {},
   "outputs": [
    {
     "data": {
      "text/plain": [
       "True"
      ]
     },
     "execution_count": 111,
     "metadata": {},
     "output_type": "execute_result"
    }
   ],
   "source": [
    "\n",
    "def asal_mi(n):\n",
    "    if n <= 1:\n",
    "        return False\n",
    "    for i in range(2, int(n**0.5) + 1):\n",
    "        if n % i == 0:\n",
    "            return False\n",
    "    return True\n",
    "\n",
    "asal_mi(79)\n"
   ]
  },
  {
   "cell_type": "code",
   "execution_count": 137,
   "id": "0cedf8e9-8aa8-41aa-8b93-87d5642de546",
   "metadata": {},
   "outputs": [
    {
     "name": "stdin",
     "output_type": "stream",
     "text": [
      "Bir sayi giriniz 11\n"
     ]
    },
    {
     "name": "stdout",
     "output_type": "stream",
     "text": [
      "Sayi asaldir.\n"
     ]
    }
   ],
   "source": [
    "m=int(input(\"Bir sayi giriniz\"))\n",
    "i=2\n",
    "if m<=1:\n",
    "    print(\"Sayi asal degildir.\")\n",
    "else:\n",
    "    while i<= int(m**0.5+1):\n",
    "        if m%i==0:\n",
    "            print(\"Sayi asal degildir.\")\n",
    "            break\n",
    "        i+=1\n",
    "    else:\n",
    "            print(\"Sayi asaldir.\")"
   ]
  },
  {
   "cell_type": "code",
   "execution_count": null,
   "id": "2be8853a-15b0-43cf-9437-29f186a4738a",
   "metadata": {},
   "outputs": [],
   "source": []
  }
 ],
 "metadata": {
  "kernelspec": {
   "display_name": "Python [conda env:base] *",
   "language": "python",
   "name": "conda-base-py"
  },
  "language_info": {
   "codemirror_mode": {
    "name": "ipython",
    "version": 3
   },
   "file_extension": ".py",
   "mimetype": "text/x-python",
   "name": "python",
   "nbconvert_exporter": "python",
   "pygments_lexer": "ipython3",
   "version": "3.12.7"
  }
 },
 "nbformat": 4,
 "nbformat_minor": 5
}
